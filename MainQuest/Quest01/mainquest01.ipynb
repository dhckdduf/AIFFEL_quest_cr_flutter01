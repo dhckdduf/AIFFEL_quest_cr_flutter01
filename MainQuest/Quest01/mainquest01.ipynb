{
  "nbformat": 4,
  "nbformat_minor": 0,
  "metadata": {
    "colab": {
      "provenance": [],
      "authorship_tag": "ABX9TyNVbKNOIhXdq50Lofm/Glfu",
      "include_colab_link": true
    },
    "kernelspec": {
      "name": "python3",
      "display_name": "Python 3"
    },
    "language_info": {
      "name": "python"
    }
  },
  "cells": [
    {
      "cell_type": "markdown",
      "metadata": {
        "id": "view-in-github",
        "colab_type": "text"
      },
      "source": [
        "<a href=\"https://colab.research.google.com/github/sunnykart11/AIFFEL_quest_cr/blob/main/MainQuest/Quest01/mainquest01.ipynb\" target=\"_parent\"><img src=\"https://colab.research.google.com/assets/colab-badge.svg\" alt=\"Open In Colab\"/></a>"
      ]
    },
    {
      "cell_type": "markdown",
      "source": [],
      "metadata": {
        "id": "9ljyzY6qJ0MF"
      }
    },
    {
      "cell_type": "code",
      "source": [
        "import random  #random 모듈 불러오기\n",
        "\n",
        "class Account:\n",
        "    account_num = 0    #클래스 변수 지정\n",
        "\n",
        "    def __init__(self, name, balance):          #매직매서드로 예금주와 초기 잔액만 입력 받기(Q1)\n",
        "        self.name=name\n",
        "        self.balance=balance\n",
        "        Account.account_num += 1              #생성 계좌 개수 저장(Q2)\n",
        "        self.bank=\"SC은행\"\n",
        "        self.num=f\"{random.randint(100,999)}-{random.randint(10,99)}-{random.randint(100000,999999)}\"    #계좌번호 3-4-6자리 형태 생성\n",
        "\n",
        "\n",
        "    @classmethod    #클래스 메서드를 정의해서 클래스 변수인 account_num 반환하도록 만들기(데코레이터)(Q3)\n",
        "    def get_account_num(cls):\n",
        "        return cls.account_num\n",
        "#시행착오: 처음에 메서드가 아니라 print(Account.account_num)을 쓰려했다가 문제 조건이 메서드라서 방법을 검색해보았다.\n",
        "#클래스 메서드를 사용하는 방법을 알게 되었다.\n",
        "\n",
        "\n",
        "    def deposit(self,money):           #입금 메서드(Q4)\n",
        "        if money>=1:\n",
        "          self.balance+=money\n",
        "          return (f\"{money}원이 입금됐습니다.\")\n",
        "        else:\n",
        "          print(\"1원 이상 입금 가능합니다\")\n",
        "\n",
        "    def withdraw(self,money):         #출금 메서드(Q5)\n",
        "        if money<=self.balance:\n",
        "          self.balance-=money\n",
        "          return(f\"{money}원이 출금됐습니다.\")\n",
        "        else:\n",
        "          print(\"잔액을 초과했습니다\")\n",
        "\n",
        "    def display_info(self):\n",
        "        self.balance=f\"{self.balance:,}\"      #잔액 세 자리마다 쉼표 출력(Q6)\n",
        "        print(f\"은행이름: {self.bank}, 예금주: {self.name}, 계좌번호: {self.num}, 잔고: {self.balance}\")\n",
        "\n",
        "\n",
        "\n",
        "sun=Account('sun',8000)\n",
        "min=Account('min',2000)\n",
        "jun=Account('jun',10000)\n",
        "min.deposit(3000)\n",
        "min.withdraw(4000)\n",
        "min.display_info()\n",
        "\n",
        "print(f\"현재 생성된 계좌 수 : {Account.get_account_num()}\")\n",
        "\n"
      ],
      "metadata": {
        "colab": {
          "base_uri": "https://localhost:8080/"
        },
        "id": "kHLyMTMeuT-k",
        "outputId": "3dcfcbf4-9394-4450-e6c3-514ce5e9ab5a"
      },
      "execution_count": 75,
      "outputs": [
        {
          "output_type": "stream",
          "name": "stdout",
          "text": [
            "은행이름: SC은행, 예금주: min, 계좌번호: 407-59-132929, 잔고: 1,000\n",
            "현재 생성된 계좌 수 : 3\n"
          ]
        }
      ]
    },
    {
      "cell_type": "markdown",
      "source": [
        "회고  \n",
        "병결로 인해 노드 학습이 뒤처진 상태였다.\n",
        "오늘 수업 시작하자마자 빨리 노드9.클래스를 학습하고 점심 식사 후에 퀘스트에 임했다. 메인퀘스트1의 Q.6까지밖에 하지 못했지만 그래도 이 정도면 잘했다고 생각한다. 퀘스트를 수행하면서 학습내용이 더 잘 정리가 됐다.  \n",
        "처음에 매직매서드로 계좌 생성하면 바로 계좌 info가 출력되게 작성했다가 마지막에 print를 지웠다. (어차피 아래 메서드인 display_info에서 출력되기 때문)\n"
      ],
      "metadata": {
        "id": "9Y3-hjdjWjxS"
      }
    }
  ]
}